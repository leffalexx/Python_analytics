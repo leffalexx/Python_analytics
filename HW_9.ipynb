{
 "cells": [
  {
   "cell_type": "markdown",
   "id": "89136f07",
   "metadata": {},
   "source": [
    "# Проанализируйте результаты эксперимента и напишите свои рекомендации менеджеру.\n",
    "\n",
    "# Mobile Games AB Testing with Cookie Cats"
   ]
  },
  {
   "cell_type": "code",
   "execution_count": 3,
   "id": "afad2d9a",
   "metadata": {},
   "outputs": [],
   "source": [
    "import pandas as pd"
   ]
  },
  {
   "cell_type": "code",
   "execution_count": 5,
   "id": "081bcba3",
   "metadata": {},
   "outputs": [],
   "source": [
    "df = pd.read_csv('gb_sem_9_hw.csv')"
   ]
  },
  {
   "cell_type": "markdown",
   "id": "106bdc85",
   "metadata": {},
   "source": [
    "Приступим к предварительному изучению данных, которые предстоит проанализировать"
   ]
  },
  {
   "cell_type": "code",
   "execution_count": 6,
   "id": "9bcbdfcf",
   "metadata": {},
   "outputs": [
    {
     "data": {
      "text/html": [
       "<div>\n",
       "<style scoped>\n",
       "    .dataframe tbody tr th:only-of-type {\n",
       "        vertical-align: middle;\n",
       "    }\n",
       "\n",
       "    .dataframe tbody tr th {\n",
       "        vertical-align: top;\n",
       "    }\n",
       "\n",
       "    .dataframe thead th {\n",
       "        text-align: right;\n",
       "    }\n",
       "</style>\n",
       "<table border=\"1\" class=\"dataframe\">\n",
       "  <thead>\n",
       "    <tr style=\"text-align: right;\">\n",
       "      <th></th>\n",
       "      <th>userid</th>\n",
       "      <th>version</th>\n",
       "      <th>sum_gamerounds</th>\n",
       "      <th>retention_1</th>\n",
       "      <th>retention_7</th>\n",
       "    </tr>\n",
       "  </thead>\n",
       "  <tbody>\n",
       "    <tr>\n",
       "      <th>0</th>\n",
       "      <td>116</td>\n",
       "      <td>gate_30</td>\n",
       "      <td>3</td>\n",
       "      <td>False</td>\n",
       "      <td>False</td>\n",
       "    </tr>\n",
       "    <tr>\n",
       "      <th>1</th>\n",
       "      <td>337</td>\n",
       "      <td>gate_30</td>\n",
       "      <td>38</td>\n",
       "      <td>True</td>\n",
       "      <td>False</td>\n",
       "    </tr>\n",
       "    <tr>\n",
       "      <th>2</th>\n",
       "      <td>377</td>\n",
       "      <td>gate_40</td>\n",
       "      <td>165</td>\n",
       "      <td>True</td>\n",
       "      <td>False</td>\n",
       "    </tr>\n",
       "    <tr>\n",
       "      <th>3</th>\n",
       "      <td>483</td>\n",
       "      <td>gate_40</td>\n",
       "      <td>1</td>\n",
       "      <td>False</td>\n",
       "      <td>False</td>\n",
       "    </tr>\n",
       "    <tr>\n",
       "      <th>4</th>\n",
       "      <td>488</td>\n",
       "      <td>gate_40</td>\n",
       "      <td>179</td>\n",
       "      <td>True</td>\n",
       "      <td>True</td>\n",
       "    </tr>\n",
       "    <tr>\n",
       "      <th>...</th>\n",
       "      <td>...</td>\n",
       "      <td>...</td>\n",
       "      <td>...</td>\n",
       "      <td>...</td>\n",
       "      <td>...</td>\n",
       "    </tr>\n",
       "    <tr>\n",
       "      <th>90184</th>\n",
       "      <td>9999441</td>\n",
       "      <td>gate_40</td>\n",
       "      <td>97</td>\n",
       "      <td>True</td>\n",
       "      <td>False</td>\n",
       "    </tr>\n",
       "    <tr>\n",
       "      <th>90185</th>\n",
       "      <td>9999479</td>\n",
       "      <td>gate_40</td>\n",
       "      <td>30</td>\n",
       "      <td>False</td>\n",
       "      <td>False</td>\n",
       "    </tr>\n",
       "    <tr>\n",
       "      <th>90186</th>\n",
       "      <td>9999710</td>\n",
       "      <td>gate_30</td>\n",
       "      <td>28</td>\n",
       "      <td>True</td>\n",
       "      <td>False</td>\n",
       "    </tr>\n",
       "    <tr>\n",
       "      <th>90187</th>\n",
       "      <td>9999768</td>\n",
       "      <td>gate_40</td>\n",
       "      <td>51</td>\n",
       "      <td>True</td>\n",
       "      <td>False</td>\n",
       "    </tr>\n",
       "    <tr>\n",
       "      <th>90188</th>\n",
       "      <td>9999861</td>\n",
       "      <td>gate_40</td>\n",
       "      <td>16</td>\n",
       "      <td>False</td>\n",
       "      <td>False</td>\n",
       "    </tr>\n",
       "  </tbody>\n",
       "</table>\n",
       "<p>90189 rows × 5 columns</p>\n",
       "</div>"
      ],
      "text/plain": [
       "        userid  version  sum_gamerounds  retention_1  retention_7\n",
       "0          116  gate_30               3        False        False\n",
       "1          337  gate_30              38         True        False\n",
       "2          377  gate_40             165         True        False\n",
       "3          483  gate_40               1        False        False\n",
       "4          488  gate_40             179         True         True\n",
       "...        ...      ...             ...          ...          ...\n",
       "90184  9999441  gate_40              97         True        False\n",
       "90185  9999479  gate_40              30        False        False\n",
       "90186  9999710  gate_30              28         True        False\n",
       "90187  9999768  gate_40              51         True        False\n",
       "90188  9999861  gate_40              16        False        False\n",
       "\n",
       "[90189 rows x 5 columns]"
      ]
     },
     "execution_count": 6,
     "metadata": {},
     "output_type": "execute_result"
    }
   ],
   "source": [
    "df"
   ]
  },
  {
   "cell_type": "code",
   "execution_count": 7,
   "id": "e55327f8",
   "metadata": {},
   "outputs": [
    {
     "name": "stdout",
     "output_type": "stream",
     "text": [
      "<class 'pandas.core.frame.DataFrame'>\n",
      "RangeIndex: 90189 entries, 0 to 90188\n",
      "Data columns (total 5 columns):\n",
      " #   Column          Non-Null Count  Dtype \n",
      "---  ------          --------------  ----- \n",
      " 0   userid          90189 non-null  int64 \n",
      " 1   version         90189 non-null  object\n",
      " 2   sum_gamerounds  90189 non-null  int64 \n",
      " 3   retention_1     90189 non-null  bool  \n",
      " 4   retention_7     90189 non-null  bool  \n",
      "dtypes: bool(2), int64(2), object(1)\n",
      "memory usage: 2.2+ MB\n"
     ]
    }
   ],
   "source": [
    "df.info()"
   ]
  },
  {
   "cell_type": "code",
   "execution_count": 8,
   "id": "96d0923e",
   "metadata": {},
   "outputs": [
    {
     "data": {
      "text/html": [
       "<div>\n",
       "<style scoped>\n",
       "    .dataframe tbody tr th:only-of-type {\n",
       "        vertical-align: middle;\n",
       "    }\n",
       "\n",
       "    .dataframe tbody tr th {\n",
       "        vertical-align: top;\n",
       "    }\n",
       "\n",
       "    .dataframe thead th {\n",
       "        text-align: right;\n",
       "    }\n",
       "</style>\n",
       "<table border=\"1\" class=\"dataframe\">\n",
       "  <thead>\n",
       "    <tr style=\"text-align: right;\">\n",
       "      <th></th>\n",
       "      <th>userid</th>\n",
       "      <th>sum_gamerounds</th>\n",
       "    </tr>\n",
       "  </thead>\n",
       "  <tbody>\n",
       "    <tr>\n",
       "      <th>count</th>\n",
       "      <td>9.018900e+04</td>\n",
       "      <td>90189.000000</td>\n",
       "    </tr>\n",
       "    <tr>\n",
       "      <th>mean</th>\n",
       "      <td>4.998412e+06</td>\n",
       "      <td>51.872457</td>\n",
       "    </tr>\n",
       "    <tr>\n",
       "      <th>std</th>\n",
       "      <td>2.883286e+06</td>\n",
       "      <td>195.050858</td>\n",
       "    </tr>\n",
       "    <tr>\n",
       "      <th>min</th>\n",
       "      <td>1.160000e+02</td>\n",
       "      <td>0.000000</td>\n",
       "    </tr>\n",
       "    <tr>\n",
       "      <th>25%</th>\n",
       "      <td>2.512230e+06</td>\n",
       "      <td>5.000000</td>\n",
       "    </tr>\n",
       "    <tr>\n",
       "      <th>50%</th>\n",
       "      <td>4.995815e+06</td>\n",
       "      <td>16.000000</td>\n",
       "    </tr>\n",
       "    <tr>\n",
       "      <th>75%</th>\n",
       "      <td>7.496452e+06</td>\n",
       "      <td>51.000000</td>\n",
       "    </tr>\n",
       "    <tr>\n",
       "      <th>max</th>\n",
       "      <td>9.999861e+06</td>\n",
       "      <td>49854.000000</td>\n",
       "    </tr>\n",
       "  </tbody>\n",
       "</table>\n",
       "</div>"
      ],
      "text/plain": [
       "             userid  sum_gamerounds\n",
       "count  9.018900e+04    90189.000000\n",
       "mean   4.998412e+06       51.872457\n",
       "std    2.883286e+06      195.050858\n",
       "min    1.160000e+02        0.000000\n",
       "25%    2.512230e+06        5.000000\n",
       "50%    4.995815e+06       16.000000\n",
       "75%    7.496452e+06       51.000000\n",
       "max    9.999861e+06    49854.000000"
      ]
     },
     "execution_count": 8,
     "metadata": {},
     "output_type": "execute_result"
    }
   ],
   "source": [
    "df.describe()"
   ]
  },
  {
   "cell_type": "markdown",
   "id": "3603b040",
   "metadata": {},
   "source": [
    "Пока все выглядит неплохо: датасет заполнен полностью, типы данных нас устраивают. Отметим только огромный разброс по количеству сыгранных раундов. Проверим, нет ли пересечения между группами:"
   ]
  },
  {
   "cell_type": "code",
   "execution_count": 13,
   "id": "55e9873c",
   "metadata": {},
   "outputs": [],
   "source": [
    "unique = df.groupby('userid', as_index=False).agg({'version': pd.Series.nunique})"
   ]
  },
  {
   "cell_type": "code",
   "execution_count": 14,
   "id": "2f634dd4",
   "metadata": {},
   "outputs": [
    {
     "name": "stdout",
     "output_type": "stream",
     "text": [
      "<class 'pandas.core.frame.DataFrame'>\n",
      "RangeIndex: 90189 entries, 0 to 90188\n",
      "Data columns (total 2 columns):\n",
      " #   Column   Non-Null Count  Dtype\n",
      "---  ------   --------------  -----\n",
      " 0   userid   90189 non-null  int64\n",
      " 1   version  90189 non-null  int64\n",
      "dtypes: int64(2)\n",
      "memory usage: 1.4 MB\n"
     ]
    }
   ],
   "source": [
    "unique.info()"
   ]
  },
  {
   "cell_type": "markdown",
   "id": "38f92b66",
   "metadata": {},
   "source": [
    "Отлично! Данные между группами не пересекаются. Осталось проверить, поровну ли распределены данные между группами:"
   ]
  },
  {
   "cell_type": "code",
   "execution_count": 15,
   "id": "c3249716",
   "metadata": {},
   "outputs": [
    {
     "data": {
      "text/plain": [
       "gate_40    45489\n",
       "gate_30    44700\n",
       "Name: version, dtype: int64"
      ]
     },
     "execution_count": 15,
     "metadata": {},
     "output_type": "execute_result"
    }
   ],
   "source": [
    "df.version.value_counts()"
   ]
  },
  {
   "cell_type": "markdown",
   "id": "7033e220",
   "metadata": {},
   "source": [
    "Да, вполне сопоставимо. Можно приступать к анализу данных. Додключим необходимые библиотеки:"
   ]
  },
  {
   "cell_type": "code",
   "execution_count": 36,
   "id": "f9c74214",
   "metadata": {},
   "outputs": [],
   "source": [
    "from scipy.stats import kstest"
   ]
  },
  {
   "cell_type": "markdown",
   "id": "d312045b",
   "metadata": {},
   "source": [
    "Проверим распределение на нормальность в каждой выборке отдельно:"
   ]
  },
  {
   "cell_type": "code",
   "execution_count": 31,
   "id": "4dc6ab6c",
   "metadata": {},
   "outputs": [],
   "source": [
    "gate_30 = df['sum_gamerounds'][df.version == 'gate_30']\n",
    "gate_40 = df['sum_gamerounds'][df.version == 'gate_40']"
   ]
  },
  {
   "cell_type": "code",
   "execution_count": 35,
   "id": "65f71ee7",
   "metadata": {},
   "outputs": [
    {
     "name": "stdout",
     "output_type": "stream",
     "text": [
      "KstestResult(statistic=0.8724176532867202, pvalue=0.0)\n",
      "KstestResult(statistic=0.8707186187388001, pvalue=0.0)\n"
     ]
    }
   ],
   "source": [
    "print(kstest (gate_30, 'norm'))\n",
    "print(kstest (gate_40, 'norm'))"
   ]
  },
  {
   "cell_type": "markdown",
   "id": "d6f4531a",
   "metadata": {},
   "source": [
    "Тест Колмогорова-Смирнова говорит нам, что мы имеем дело с не нормальным распределением. Будем иметь в виду. Хорошая новость - в обеих тестовых группах данные распределены примерно одинаково. Для тестирования гипотез на данном датасете необходимо использовать критерий Манна-Уитни."
   ]
  },
  {
   "cell_type": "code",
   "execution_count": 37,
   "id": "fb373511",
   "metadata": {},
   "outputs": [],
   "source": [
    "from scipy.stats import mannwhitneyu"
   ]
  },
  {
   "cell_type": "markdown",
   "id": "80189701",
   "metadata": {},
   "source": [
    "Проверим, есть ли разница в однодневном retention rate у выборок:"
   ]
  },
  {
   "cell_type": "code",
   "execution_count": 47,
   "id": "6f77099e",
   "metadata": {},
   "outputs": [],
   "source": [
    "gate_30_ret1 = df['retention_1'][df.version == 'gate_30']\n",
    "gate_40_ret1 = df['retention_1'][df.version == 'gate_40']"
   ]
  },
  {
   "cell_type": "code",
   "execution_count": 48,
   "id": "a0418330",
   "metadata": {},
   "outputs": [
    {
     "data": {
      "text/plain": [
       "MannwhitneyuResult(statistic=1022682813.0, pvalue=0.07441128639919536)"
      ]
     },
     "execution_count": 48,
     "metadata": {},
     "output_type": "execute_result"
    }
   ],
   "source": [
    "mannwhitneyu(gate_30_ret1, gate_40_ret1)"
   ]
  },
  {
   "cell_type": "markdown",
   "id": "05a1768e",
   "metadata": {},
   "source": [
    "__p-value 0.07 > α = 0.05.__ Принимаем нулевую гипотезу о том, что статистически значимых различий в тестовых группах нет."
   ]
  },
  {
   "cell_type": "markdown",
   "id": "35304f3b",
   "metadata": {},
   "source": [
    "Проверим, есть ли разница в семидневном retention rate у выборок:"
   ]
  },
  {
   "cell_type": "code",
   "execution_count": 50,
   "id": "0d519555",
   "metadata": {},
   "outputs": [],
   "source": [
    "gate_30_ret7 = df['retention_7'][df.version == 'gate_30']\n",
    "gate_40_ret7 = df['retention_7'][df.version == 'gate_40']"
   ]
  },
  {
   "cell_type": "code",
   "execution_count": 51,
   "id": "95f07cbb",
   "metadata": {},
   "outputs": [
    {
     "data": {
      "text/plain": [
       "MannwhitneyuResult(statistic=1025017239.0, pvalue=0.001554344685704005)"
      ]
     },
     "execution_count": 51,
     "metadata": {},
     "output_type": "execute_result"
    }
   ],
   "source": [
    "mannwhitneyu(gate_30_ret7, gate_40_ret7)"
   ]
  },
  {
   "cell_type": "markdown",
   "id": "19788f16",
   "metadata": {},
   "source": [
    "__p-value 0.001 < α = 0.05.__ Отвергаем нулевую гипотезу. Есть статистически значимые отличия в семидневном удержании между группами gate_30 и gate_40."
   ]
  },
  {
   "cell_type": "markdown",
   "id": "b45efe37",
   "metadata": {},
   "source": [
    "Осталось выяснить, какая группа лучше:"
   ]
  },
  {
   "cell_type": "code",
   "execution_count": 65,
   "id": "3be68b90",
   "metadata": {},
   "outputs": [
    {
     "name": "stdout",
     "output_type": "stream",
     "text": [
      "version\n",
      "gate_30    19.02\n",
      "gate_40    18.20\n",
      "Name: retention_7, dtype: float64\n"
     ]
    }
   ],
   "source": [
    "retention7 = df.retention_7.groupby(df.version).sum()/df.retention_7.groupby(df.version).count()\n",
    "print(round((retention7*100),2))"
   ]
  },
  {
   "cell_type": "markdown",
   "id": "fea95bf4",
   "metadata": {},
   "source": [
    "Как мы видим, семидлневный retention rate группы gate_30 на 0.82% выше."
   ]
  },
  {
   "cell_type": "markdown",
   "id": "3794e1aa",
   "metadata": {},
   "source": [
    "#### По результатам проведенного  A/B тестирования можно рекомендовать к релизу версию gate_30, т.к. семидневное удержание аудитории выше у нее на 0.82%.\n",
    "#### Вместе с тем необходимо отметить, что медианное значение сыгранных раундов - 16, и большая часть игроков не встречает события ни на 30-м, ни на 40-м уровне. Возможно, имеет смысл провести тестирование гипотезы с воротами на 15-м уровне."
   ]
  }
 ],
 "metadata": {
  "kernelspec": {
   "display_name": "Python 3 (ipykernel)",
   "language": "python",
   "name": "python3"
  },
  "language_info": {
   "codemirror_mode": {
    "name": "ipython",
    "version": 3
   },
   "file_extension": ".py",
   "mimetype": "text/x-python",
   "name": "python",
   "nbconvert_exporter": "python",
   "pygments_lexer": "ipython3",
   "version": "3.9.13"
  }
 },
 "nbformat": 4,
 "nbformat_minor": 5
}
