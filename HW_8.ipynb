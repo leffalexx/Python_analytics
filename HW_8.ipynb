{
 "cells": [
  {
   "cell_type": "markdown",
   "id": "72ef6e25",
   "metadata": {},
   "source": [
    "#### На сайте запущен А/В тест с целью увеличить доход. В приложенном excel файле вы найдете сырые данные по результатам эксперимента – user_id, тип выборки variant_name и доход принесенный пользователем revenue. Проанализируйте результаты эксперимента и напишите свои рекомендации менеджеру."
   ]
  },
  {
   "cell_type": "code",
   "execution_count": 28,
   "id": "23d4912f",
   "metadata": {},
   "outputs": [],
   "source": [
    "import pandas as pd\n",
    "import matplotlib.pyplot as plt"
   ]
  },
  {
   "cell_type": "code",
   "execution_count": 5,
   "id": "242ac89f",
   "metadata": {},
   "outputs": [
    {
     "name": "stderr",
     "output_type": "stream",
     "text": [
      "C:\\Users\\leffa\\anaconda3\\lib\\site-packages\\openpyxl\\worksheet\\_read_only.py:79: UserWarning: Unknown extension is not supported and will be removed\n",
      "  for idx, row in parser.parse():\n"
     ]
    }
   ],
   "source": [
    "df = pd.read_excel('AB_Test_Results (2).xlsx')"
   ]
  },
  {
   "cell_type": "markdown",
   "id": "24b53283",
   "metadata": {},
   "source": [
    "Убедимся, что файл загружен корректно:"
   ]
  },
  {
   "cell_type": "code",
   "execution_count": 6,
   "id": "ae078482",
   "metadata": {},
   "outputs": [
    {
     "data": {
      "text/html": [
       "<div>\n",
       "<style scoped>\n",
       "    .dataframe tbody tr th:only-of-type {\n",
       "        vertical-align: middle;\n",
       "    }\n",
       "\n",
       "    .dataframe tbody tr th {\n",
       "        vertical-align: top;\n",
       "    }\n",
       "\n",
       "    .dataframe thead th {\n",
       "        text-align: right;\n",
       "    }\n",
       "</style>\n",
       "<table border=\"1\" class=\"dataframe\">\n",
       "  <thead>\n",
       "    <tr style=\"text-align: right;\">\n",
       "      <th></th>\n",
       "      <th>USER_ID</th>\n",
       "      <th>VARIANT_NAME</th>\n",
       "      <th>REVENUE</th>\n",
       "    </tr>\n",
       "  </thead>\n",
       "  <tbody>\n",
       "    <tr>\n",
       "      <th>0</th>\n",
       "      <td>737</td>\n",
       "      <td>variant</td>\n",
       "      <td>0.0</td>\n",
       "    </tr>\n",
       "    <tr>\n",
       "      <th>1</th>\n",
       "      <td>2423</td>\n",
       "      <td>control</td>\n",
       "      <td>0.0</td>\n",
       "    </tr>\n",
       "    <tr>\n",
       "      <th>2</th>\n",
       "      <td>9411</td>\n",
       "      <td>control</td>\n",
       "      <td>0.0</td>\n",
       "    </tr>\n",
       "    <tr>\n",
       "      <th>3</th>\n",
       "      <td>7311</td>\n",
       "      <td>control</td>\n",
       "      <td>0.0</td>\n",
       "    </tr>\n",
       "    <tr>\n",
       "      <th>4</th>\n",
       "      <td>6174</td>\n",
       "      <td>variant</td>\n",
       "      <td>0.0</td>\n",
       "    </tr>\n",
       "  </tbody>\n",
       "</table>\n",
       "</div>"
      ],
      "text/plain": [
       "   USER_ID VARIANT_NAME  REVENUE\n",
       "0      737      variant      0.0\n",
       "1     2423      control      0.0\n",
       "2     9411      control      0.0\n",
       "3     7311      control      0.0\n",
       "4     6174      variant      0.0"
      ]
     },
     "execution_count": 6,
     "metadata": {},
     "output_type": "execute_result"
    }
   ],
   "source": [
    "df.head()"
   ]
  },
  {
   "cell_type": "markdown",
   "id": "cee1fb1c",
   "metadata": {},
   "source": [
    "Убедимся, что типы данных нас устраивают:"
   ]
  },
  {
   "cell_type": "code",
   "execution_count": 8,
   "id": "cd3177f9",
   "metadata": {},
   "outputs": [
    {
     "data": {
      "text/plain": [
       "USER_ID           int64\n",
       "VARIANT_NAME     object\n",
       "REVENUE         float64\n",
       "dtype: object"
      ]
     },
     "execution_count": 8,
     "metadata": {},
     "output_type": "execute_result"
    }
   ],
   "source": [
    "df.dtypes"
   ]
  },
  {
   "cell_type": "code",
   "execution_count": 10,
   "id": "5e6a58f5",
   "metadata": {},
   "outputs": [
    {
     "name": "stdout",
     "output_type": "stream",
     "text": [
      "<class 'pandas.core.frame.DataFrame'>\n",
      "RangeIndex: 10000 entries, 0 to 9999\n",
      "Data columns (total 3 columns):\n",
      " #   Column        Non-Null Count  Dtype  \n",
      "---  ------        --------------  -----  \n",
      " 0   USER_ID       10000 non-null  int64  \n",
      " 1   VARIANT_NAME  10000 non-null  object \n",
      " 2   REVENUE       10000 non-null  float64\n",
      "dtypes: float64(1), int64(1), object(1)\n",
      "memory usage: 234.5+ KB\n"
     ]
    }
   ],
   "source": [
    "df.info()"
   ]
  },
  {
   "cell_type": "markdown",
   "id": "add0fd2d",
   "metadata": {},
   "source": [
    "Да, выручка заполнена в формате float64, мы сможем данные анализировать. Объем обеих групп равен 10000 человек, будем надеяться, что распределены они примерно поровну"
   ]
  },
  {
   "cell_type": "code",
   "execution_count": 15,
   "id": "cedebbfd",
   "metadata": {},
   "outputs": [
    {
     "data": {
      "text/plain": [
       "variant    5016\n",
       "control    4984\n",
       "Name: VARIANT_NAME, dtype: int64"
      ]
     },
     "execution_count": 15,
     "metadata": {},
     "output_type": "execute_result"
    }
   ],
   "source": [
    "df.VARIANT_NAME.value_counts()"
   ]
  },
  {
   "cell_type": "markdown",
   "id": "7dcf196d",
   "metadata": {},
   "source": [
    "Да, почти поровну."
   ]
  },
  {
   "cell_type": "markdown",
   "id": "4f38ebf8",
   "metadata": {},
   "source": [
    "Посмотрим на данные сначала в общем издалека:"
   ]
  },
  {
   "cell_type": "code",
   "execution_count": 12,
   "id": "0e9fc2b4",
   "metadata": {
    "scrolled": true
   },
   "outputs": [
    {
     "data": {
      "text/html": [
       "<div>\n",
       "<style scoped>\n",
       "    .dataframe tbody tr th:only-of-type {\n",
       "        vertical-align: middle;\n",
       "    }\n",
       "\n",
       "    .dataframe tbody tr th {\n",
       "        vertical-align: top;\n",
       "    }\n",
       "\n",
       "    .dataframe thead th {\n",
       "        text-align: right;\n",
       "    }\n",
       "</style>\n",
       "<table border=\"1\" class=\"dataframe\">\n",
       "  <thead>\n",
       "    <tr style=\"text-align: right;\">\n",
       "      <th></th>\n",
       "      <th>USER_ID</th>\n",
       "      <th>REVENUE</th>\n",
       "    </tr>\n",
       "  </thead>\n",
       "  <tbody>\n",
       "    <tr>\n",
       "      <th>count</th>\n",
       "      <td>10000.000000</td>\n",
       "      <td>10000.000000</td>\n",
       "    </tr>\n",
       "    <tr>\n",
       "      <th>mean</th>\n",
       "      <td>4981.080200</td>\n",
       "      <td>0.099447</td>\n",
       "    </tr>\n",
       "    <tr>\n",
       "      <th>std</th>\n",
       "      <td>2890.590115</td>\n",
       "      <td>2.318529</td>\n",
       "    </tr>\n",
       "    <tr>\n",
       "      <th>min</th>\n",
       "      <td>2.000000</td>\n",
       "      <td>0.000000</td>\n",
       "    </tr>\n",
       "    <tr>\n",
       "      <th>25%</th>\n",
       "      <td>2468.750000</td>\n",
       "      <td>0.000000</td>\n",
       "    </tr>\n",
       "    <tr>\n",
       "      <th>50%</th>\n",
       "      <td>4962.000000</td>\n",
       "      <td>0.000000</td>\n",
       "    </tr>\n",
       "    <tr>\n",
       "      <th>75%</th>\n",
       "      <td>7511.500000</td>\n",
       "      <td>0.000000</td>\n",
       "    </tr>\n",
       "    <tr>\n",
       "      <th>max</th>\n",
       "      <td>10000.000000</td>\n",
       "      <td>196.010000</td>\n",
       "    </tr>\n",
       "  </tbody>\n",
       "</table>\n",
       "</div>"
      ],
      "text/plain": [
       "            USER_ID       REVENUE\n",
       "count  10000.000000  10000.000000\n",
       "mean    4981.080200      0.099447\n",
       "std     2890.590115      2.318529\n",
       "min        2.000000      0.000000\n",
       "25%     2468.750000      0.000000\n",
       "50%     4962.000000      0.000000\n",
       "75%     7511.500000      0.000000\n",
       "max    10000.000000    196.010000"
      ]
     },
     "execution_count": 12,
     "metadata": {},
     "output_type": "execute_result"
    }
   ],
   "source": [
    "df.describe()"
   ]
  },
  {
   "cell_type": "markdown",
   "id": "ebe451fa",
   "metadata": {},
   "source": [
    "Проверим, нет ли среди участников групп пользователей, которые приняли в эксперименте в обеих группах:"
   ]
  },
  {
   "cell_type": "code",
   "execution_count": 23,
   "id": "612b4e02",
   "metadata": {},
   "outputs": [],
   "source": [
    "unique = df.groupby('USER_ID', as_index=False).agg({'VARIANT_NAME': pd.Series.nunique})"
   ]
  },
  {
   "cell_type": "code",
   "execution_count": 21,
   "id": "650ce2d8",
   "metadata": {},
   "outputs": [
    {
     "data": {
      "text/html": [
       "<div>\n",
       "<style scoped>\n",
       "    .dataframe tbody tr th:only-of-type {\n",
       "        vertical-align: middle;\n",
       "    }\n",
       "\n",
       "    .dataframe tbody tr th {\n",
       "        vertical-align: top;\n",
       "    }\n",
       "\n",
       "    .dataframe thead th {\n",
       "        text-align: right;\n",
       "    }\n",
       "</style>\n",
       "<table border=\"1\" class=\"dataframe\">\n",
       "  <thead>\n",
       "    <tr style=\"text-align: right;\">\n",
       "      <th></th>\n",
       "      <th>USER_ID</th>\n",
       "      <th>VARIANT_NAME</th>\n",
       "    </tr>\n",
       "  </thead>\n",
       "  <tbody>\n",
       "    <tr>\n",
       "      <th>count</th>\n",
       "      <td>6324.000000</td>\n",
       "      <td>6324.000000</td>\n",
       "    </tr>\n",
       "    <tr>\n",
       "      <th>mean</th>\n",
       "      <td>4984.111164</td>\n",
       "      <td>1.243675</td>\n",
       "    </tr>\n",
       "    <tr>\n",
       "      <th>std</th>\n",
       "      <td>2893.706011</td>\n",
       "      <td>0.429333</td>\n",
       "    </tr>\n",
       "    <tr>\n",
       "      <th>min</th>\n",
       "      <td>2.000000</td>\n",
       "      <td>1.000000</td>\n",
       "    </tr>\n",
       "    <tr>\n",
       "      <th>25%</th>\n",
       "      <td>2467.750000</td>\n",
       "      <td>1.000000</td>\n",
       "    </tr>\n",
       "    <tr>\n",
       "      <th>50%</th>\n",
       "      <td>4966.500000</td>\n",
       "      <td>1.000000</td>\n",
       "    </tr>\n",
       "    <tr>\n",
       "      <th>75%</th>\n",
       "      <td>7508.500000</td>\n",
       "      <td>1.000000</td>\n",
       "    </tr>\n",
       "    <tr>\n",
       "      <th>max</th>\n",
       "      <td>10000.000000</td>\n",
       "      <td>2.000000</td>\n",
       "    </tr>\n",
       "  </tbody>\n",
       "</table>\n",
       "</div>"
      ],
      "text/plain": [
       "            USER_ID  VARIANT_NAME\n",
       "count   6324.000000   6324.000000\n",
       "mean    4984.111164      1.243675\n",
       "std     2893.706011      0.429333\n",
       "min        2.000000      1.000000\n",
       "25%     2467.750000      1.000000\n",
       "50%     4966.500000      1.000000\n",
       "75%     7508.500000      1.000000\n",
       "max    10000.000000      2.000000"
      ]
     },
     "execution_count": 21,
     "metadata": {},
     "output_type": "execute_result"
    }
   ],
   "source": [
    "unique.describe()"
   ]
  },
  {
   "cell_type": "markdown",
   "id": "af380bb6",
   "metadata": {},
   "source": [
    "И их почти 37%. Это очень много, с данными нужно будет работать очень аккуратно."
   ]
  },
  {
   "cell_type": "markdown",
   "id": "c66565b0",
   "metadata": {},
   "source": [
    "Проверим, как распределились группы:"
   ]
  },
  {
   "cell_type": "code",
   "execution_count": 27,
   "id": "27e8d9c3",
   "metadata": {},
   "outputs": [
    {
     "data": {
      "text/plain": [
       "1    4783\n",
       "2    1541\n",
       "Name: VARIANT_NAME, dtype: int64"
      ]
     },
     "execution_count": 27,
     "metadata": {},
     "output_type": "execute_result"
    }
   ],
   "source": [
    "unique.VARIANT_NAME.value_counts()"
   ]
  },
  {
   "cell_type": "markdown",
   "id": "82a2569a",
   "metadata": {},
   "source": [
    "### К сожалению, дальнейшая работа с данными интересна лишь с академической точки зрения, так как правильным решением было бы проведение эксперимента заново.\n",
    "Корректировать данные можно, но мы снизим мощность и достоверность теста слишком сильно."
   ]
  }
 ],
 "metadata": {
  "kernelspec": {
   "display_name": "Python 3 (ipykernel)",
   "language": "python",
   "name": "python3"
  },
  "language_info": {
   "codemirror_mode": {
    "name": "ipython",
    "version": 3
   },
   "file_extension": ".py",
   "mimetype": "text/x-python",
   "name": "python",
   "nbconvert_exporter": "python",
   "pygments_lexer": "ipython3",
   "version": "3.9.13"
  }
 },
 "nbformat": 4,
 "nbformat_minor": 5
}
